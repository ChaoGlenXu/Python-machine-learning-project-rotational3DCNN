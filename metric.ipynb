{
  "nbformat": 4,
  "nbformat_minor": 0,
  "metadata": {
    "colab": {
      "name": "metric.ipynb",
      "provenance": []
    },
    "kernelspec": {
      "name": "python3",
      "display_name": "Python 3"
    }
  },
  "cells": [
    {
      "cell_type": "code",
      "metadata": {
        "id": "5y9s1VHJWrz5"
      },
      "source": [
        "import csv\n",
        "import numpy as np\n",
        "import random\n",
        "import torch\n",
        "import torch.utils.data\n",
        "import matplotlib.pyplot as plt"
      ],
      "execution_count": 123,
      "outputs": []
    },
    {
      "cell_type": "code",
      "metadata": {
        "id": "LG39ZuwOWvvj",
        "outputId": "5ba12832-cb67-481e-ac4f-ab2ba6fe63ef",
        "colab": {
          "base_uri": "https://localhost:8080/"
        }
      },
      "source": [
        "# example data\n",
        "# Batch x Height x Width x Length x Label\n",
        "data = [[[[0, 0],[0, 0]],[[0, 1],[1, 1]]], [[[1, 1],[0, 1]],[[0, 0],[1, 1]]]]\n",
        "data_tensor = torch.FloatTensor(data)\n",
        "label = [[[[1, 0],[0, 1]],[[0, 1],[1, 1]]], [[[0, 1],[1, 0]],[[1, 1],[1, 1]]]]\n",
        "label_tensor = torch.FloatTensor(label)\n",
        "\n",
        "print(Metric.get_mean_iou(data_tensor, label_tensor))\n",
        "print(Metric.get_mean_accuracy(data_tensor, label_tensor))"
      ],
      "execution_count": 138,
      "outputs": [
        {
          "output_type": "stream",
          "text": [
            "0.4875\n",
            "0.5625\n"
          ],
          "name": "stdout"
        }
      ]
    },
    {
      "cell_type": "code",
      "metadata": {
        "id": "Avxvy4dYpdkn"
      },
      "source": [
        "class Metric:\n",
        "  # takes Height x Width x Length tensor filled with 0/1\n",
        "  def get_accuracy(pred, labels):\n",
        "      # gets voxel-wise accuracy per batch\n",
        "      correctness = torch.eq(pred, labels)\n",
        "      accuracy = torch.sum(correctness).item()/pred.nelement()\n",
        "      return accuracy\n",
        "\n",
        "  # takes Batch x Height x Width x Length tensor filled with 0/1\n",
        "  def get_mean_accuracy(pred, labels):\n",
        "    # gets accuracy for all data\n",
        "    accuracy = [get_accuracy(pred[i], labels[i]) for i in range(len(pred))]\n",
        "    return np.array(accuracy).mean()\n",
        "\n",
        "  # takes Height x Width x Length tensor filled with 0/1\n",
        "  def get_iou(pred, labels):\n",
        "      # gets intersection over union for a signle batch\n",
        "      pred = pred.squeeze(1)\n",
        "      labels = labels.squeeze(1)\n",
        "      intersection = np.logical_and(labels, pred)\n",
        "      union = np.logical_or(labels, pred)\n",
        "      iou = torch.sum(intersection) / torch.sum(union)\n",
        "      return iou\n",
        "  \n",
        "  # takes Batch x Height x Width x Length tensor filled with 0/1\n",
        "  def get_mean_iou(pred, labels):\n",
        "    # gets intersection over union for all data\n",
        "    iou = [get_iou(pred[i], labels[i]) for i in range(len(pred))]\n",
        "    return np.array(iou).mean()"
      ],
      "execution_count": 136,
      "outputs": []
    }
  ]
}