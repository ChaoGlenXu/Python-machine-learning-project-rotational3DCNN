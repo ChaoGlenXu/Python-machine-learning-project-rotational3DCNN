{
  "nbformat": 4,
  "nbformat_minor": 0,
  "metadata": {
    "colab": {
      "name": "aps360_project.ipynb",
      "provenance": [],
      "collapsed_sections": []
    },
    "kernelspec": {
      "name": "python3",
      "display_name": "Python 3"
    }
  },
  "cells": [
    {
      "cell_type": "code",
      "metadata": {
        "id": "TBWrqwLjAYG3"
      },
      "source": [
        "#"
      ],
      "execution_count": null,
      "outputs": []
    },
    {
      "cell_type": "code",
      "metadata": {
        "id": "HHCc9Rk2r4hp"
      },
      "source": [
        "#Glen's part -- training script\n",
        "#   training script minimal structure, just realized that in order to write this,\n",
        "#i need to know the classes that we defined, so i can apply the class and object\n",
        "#name, and then modify and add more \n",
        "criterion = nn.BCEWithLogitsLoss()\n",
        "optimizer = optim.SGD(unamed_class.parameters(), lr=0.005, momentum=0.9)\n",
        "\n",
        "for (unamed_object, unamed_label) in mnist_train:\n",
        "    # requires classes to be defined\n",
        "    actual = torch.tensor(undecided_prcess).reshape([1,1]).type(torch.FloatTensor)\n",
        "    # requires classes to be defined\n",
        "    out = unamed_class(reletive_tensor(unamed_object)) # step 1-2\n",
        "    # update the parameters based on the loss\n",
        "    loss = criterion(out, actual)      # step 3\n",
        "    loss.backward()                    # step 4 (compute the updates for each parameter)\n",
        "    optimizer.step()                   # step 4 (make the updates for each parameter)\n",
        "    optimizer.zero_grad()              # a clean up step for PyTorch"
      ],
      "execution_count": null,
      "outputs": []
    },
    {
      "cell_type": "code",
      "metadata": {
        "id": "Z5Dqj-zEA0u9"
      },
      "source": [
        "# validation script \n",
        "# computing the error and accuracy on the training set\n",
        "error = 0\n",
        "for (unamed_object, unamed_label) in mnist_train[:1000]:\n",
        "    prob = torch.sigmoid(unamed_object(undecided_prcess))\n",
        "    if (prob < 0.5 and ) or (prob >= 0.5 ):\n",
        "        error += 1\n",
        "print(\"Training Error Rate:\", error/1000)\n",
        "print(\"Training Accuracy:\", 1 - error/1000)"
      ],
      "execution_count": null,
      "outputs": []
    }
  ]
}